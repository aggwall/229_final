{
 "cells": [
  {
   "cell_type": "code",
   "execution_count": 1,
   "metadata": {},
   "outputs": [],
   "source": [
    "%load_ext autoreload\n",
    "%autoreload 2"
   ]
  },
  {
   "cell_type": "code",
   "execution_count": 2,
   "metadata": {},
   "outputs": [],
   "source": [
    "import scanpy as sc\n",
    "import pickle as pkl\n",
    "import sys\n",
    "sys.path.append(\"..\")"
   ]
  },
  {
   "cell_type": "code",
   "execution_count": 3,
   "metadata": {},
   "outputs": [],
   "source": [
    "data = sc.read_h5ad(\"/lfs/local/0/ayushag/uce_data/coarse_uce_10000_per_dataset_33l_8ep.h5ad\")\n",
    "data"
   ]
  },
  {
   "cell_type": "code",
   "execution_count": 28,
   "metadata": {},
   "outputs": [],
   "source": [
    "def make_labels(adata, column):\n",
    "    from sklearn.preprocessing import LabelEncoder\n",
    "    \"\"\"\n",
    "    Make labels for the adata object.\n",
    "    Deterministic process since we are using LabelEncoder, which sorts.\n",
    "    \"\"\"\n",
    "    return LabelEncoder().fit_transform(adata.obs[column].values)"
   ]
  },
  {
   "cell_type": "code",
   "execution_count": 32,
   "metadata": {},
   "outputs": [
    {
     "data": {
      "text/plain": [
       "{'brain': 4,\n",
       " 'lung': 12,\n",
       " 'female reproductive': 7,\n",
       " 'male reproductive': 13,\n",
       " 'blood': 2,\n",
       " 'eye': 6,\n",
       " 'pancreas': 16,\n",
       " 'tongue': 21,\n",
       " 'bone': 3,\n",
       " 'kidney': 10,\n",
       " 'adipose': 0,\n",
       " 'heart': 8,\n",
       " 'intestines': 9,\n",
       " 'liver': 11,\n",
       " 'stomach': 19,\n",
       " 'esophagus': 5,\n",
       " 'thymus': 20,\n",
       " 'skin': 17,\n",
       " 'spleen': 18,\n",
       " 'muscle': 14,\n",
       " 'bladder': 1,\n",
       " 'nose': 15}"
      ]
     },
     "execution_count": 32,
     "metadata": {},
     "output_type": "execute_result"
    }
   ],
   "source": [
    "tissue_type = make_labels(data, 'coarse_tissue')\n",
    "# see which tissue type is mapped to which label\n",
    "dict(zip(data.obs['coarse_tissue'], tissue_type))"
   ]
  },
  {
   "cell_type": "code",
   "execution_count": 24,
   "metadata": {},
   "outputs": [
    {
     "data": {
      "text/plain": [
       "{0: array([ 1.0909079 ,  0.02205896,  1.2550262 , ...,  0.09497749,\n",
       "        -0.5430705 ,  2.206266  ], dtype=float32),\n",
       " 1: array([-0.17955552, -2.4261034 ,  0.5934913 , ..., -0.19445932,\n",
       "         0.14138907, -0.7746364 ], dtype=float32),\n",
       " 2: array([-0.6401492 , -0.35096616, -1.5632441 , ...,  0.71997184,\n",
       "         1.6256462 ,  0.17792806], dtype=float32),\n",
       " 3: array([ 1.0791659 , -1.3136574 , -0.21075338, ..., -0.5424797 ,\n",
       "        -0.81301624, -0.12719327], dtype=float32),\n",
       " 4: array([-1.9705681 ,  0.92527944, -0.7815848 , ..., -2.2507322 ,\n",
       "        -1.0740699 ,  0.22059344], dtype=float32),\n",
       " 5: array([-0.17892289, -0.45541883, -2.6831372 , ..., -1.4223462 ,\n",
       "         0.37045804,  0.20250699], dtype=float32),\n",
       " 6: array([-0.96819705,  0.03238983, -0.5556706 , ...,  1.149582  ,\n",
       "        -0.4985467 , -0.2895851 ], dtype=float32),\n",
       " 7: array([-0.1973634, -1.3966022,  1.2681212, ...,  0.8424581,  1.1032338,\n",
       "        -2.511348 ], dtype=float32),\n",
       " 8: array([-0.22072755, -0.11917397, -0.2224622 , ...,  0.9237978 ,\n",
       "         0.25951764, -0.01835672], dtype=float32),\n",
       " 9: array([-1.8543903 , -0.7450763 ,  0.7310869 , ...,  0.8347245 ,\n",
       "         0.7387152 ,  0.07487954], dtype=float32),\n",
       " 10: array([ 1.6530991 ,  2.0932894 , -0.49704722, ..., -0.51307374,\n",
       "         0.4319687 ,  0.73013926], dtype=float32),\n",
       " 11: array([-0.8204944 , -1.1787996 , -0.6507512 , ..., -0.07020433,\n",
       "        -0.17070477, -0.3186101 ], dtype=float32),\n",
       " 12: array([-2.313122  , -0.11586172,  1.2517607 , ...,  0.31753844,\n",
       "        -0.22888966,  0.1122612 ], dtype=float32),\n",
       " 13: array([ 0.09993515, -0.04080414,  0.33613387, ..., -0.18173678,\n",
       "        -0.77130044,  1.3205069 ], dtype=float32),\n",
       " 14: array([ 0.22298422, -0.00340704, -0.29070273, ...,  1.420088  ,\n",
       "        -0.5916322 , -0.13667464], dtype=float32),\n",
       " 15: array([ 1.745339  ,  0.1284855 ,  0.66592824, ..., -1.5251673 ,\n",
       "        -0.7078987 ,  1.7256596 ], dtype=float32),\n",
       " 16: array([ 1.8026268 , -1.204983  , -0.6804318 , ..., -0.05202407,\n",
       "        -0.7078039 , -0.4189359 ], dtype=float32),\n",
       " 17: array([-0.07030816,  2.02881   , -0.7567769 , ..., -0.3083159 ,\n",
       "        -0.1288973 ,  1.2387825 ], dtype=float32),\n",
       " 18: array([-0.4861175 ,  0.30451778,  0.05122191, ..., -0.85280156,\n",
       "        -1.7356035 ,  0.5908522 ], dtype=float32),\n",
       " 19: array([ 0.67102313,  1.7546893 , -1.0871465 , ...,  0.5582068 ,\n",
       "         0.48142427, -0.7686666 ], dtype=float32),\n",
       " 20: array([ 0.51142186,  1.0426447 , -0.6223609 , ...,  0.8490919 ,\n",
       "        -0.04518264,  1.8168879 ], dtype=float32),\n",
       " 21: array([0.80660796, 0.6944239 , 0.48866847, ..., 0.59865105, 0.07869053,\n",
       "        0.5066585 ], dtype=float32)}"
      ]
     },
     "execution_count": 24,
     "metadata": {},
     "output_type": "execute_result"
    }
   ],
   "source": [
    "import os\n",
    "os.environ['EMB_PATH'] = \"/dfs/user/ayushag/ucegen/ucegen/helpers/cond_embs/\"\n",
    "with open(os.path.join(os.environ['EMB_PATH'], \"random_tissue_type_emb.pkl\"), 'rb') as f:\n",
    "    tissue_type_emb = pkl.load(f)\n",
    "tissue_type_emb"
   ]
  },
  {
   "cell_type": "markdown",
   "metadata": {},
   "source": [
    "### Make embeddings for different conditional variables"
   ]
  },
  {
   "cell_type": "code",
   "execution_count": 5,
   "metadata": {},
   "outputs": [],
   "source": [
    "from helpers.data_helpers import make_labels\n",
    "\n",
    "cell_type = make_labels(data, \"coarse_cell_type\")\n",
    "tissue_type = make_labels(data, \"coarse_tissue\")"
   ]
  },
  {
   "cell_type": "code",
   "execution_count": null,
   "metadata": {},
   "outputs": [],
   "source": [
    "from helpers.data_utils import create_random_label_embeddings\n",
    "\n",
    "cell_type_emb = create_random_label_embeddings(cell_type, 1280)    # dict of {label: embedding}\n",
    "with open(\"/dfs/user/ayushag/ucegen/helpers/cond_embs/random_cell_type_emb.pkl\", \"wb\") as f:\n",
    "    pkl.dump(cell_type_emb, f)\n",
    "\n",
    "tissue_type_emb = create_random_label_embeddings(tissue_type, 1280)\n",
    "with open(\"/dfs/user/ayushag/ucegen/helpers/cond_embs/random_tissue_type_emb.pkl\", \"wb\") as f:\n",
    "    pkl.dump(tissue_type_emb, f)"
   ]
  },
  {
   "cell_type": "code",
   "execution_count": 7,
   "metadata": {},
   "outputs": [
    {
     "name": "stdout",
     "output_type": "stream",
     "text": [
      "{0: array([ 0.03866731,  0.01493303, -0.02345957, ...,  0.00994206,\n",
      "       -0.05746154, -0.0015082 ], dtype=float32), 1: array([-0.0188835 , -0.00589531,  0.00778027, ..., -0.00882767,\n",
      "        0.0239766 ,  0.00914056], dtype=float32), 2: array([-0.02350244, -0.01001995,  0.03087838, ...,  0.00670765,\n",
      "        0.02786334,  0.00567702], dtype=float32), 3: array([-0.01504765, -0.01546091,  0.03408169, ..., -0.00154339,\n",
      "        0.02264903,  0.01509834], dtype=float32), 4: array([-0.0056897 , -0.00039082, -0.00556177, ..., -0.01795588,\n",
      "       -0.03113024,  0.01938825], dtype=float32), 5: array([-0.00940052, -0.02001699,  0.02165758, ...,  0.01083889,\n",
      "        0.00377982, -0.01340587], dtype=float32), 6: array([-0.01127574, -0.05953153,  0.0014274 , ...,  0.01397338,\n",
      "       -0.00183006, -0.04500984], dtype=float32), 7: array([ 0.01159541,  0.00071055, -0.01246785, ...,  0.00672238,\n",
      "        0.01455051,  0.01433145], dtype=float32), 8: array([-0.00655379,  0.00996195, -0.00930615, ..., -0.00885464,\n",
      "       -0.02089743,  0.00375161], dtype=float32), 9: array([ 0.00719997, -0.00028346, -0.00704437, ..., -0.00264699,\n",
      "        0.00555435, -0.00660562], dtype=float32), 10: array([ 0.01883463,  0.00012886, -0.02827459, ..., -0.00392208,\n",
      "        0.00264553,  0.00411458], dtype=float32), 11: array([ 0.00275305,  0.03786315, -0.02906157, ..., -0.04093951,\n",
      "       -0.02961848,  0.0017851 ], dtype=float32), 12: array([ 2.2622693e-05, -1.4991773e-02,  1.3808784e-03, ...,\n",
      "        6.2778099e-03,  6.4874631e-03, -3.4332301e-03], dtype=float32), 13: array([ 0.01609477,  0.00158472,  0.03803619, ...,  0.02568525,\n",
      "        0.02047718, -0.04115785], dtype=float32), 14: array([-0.0184178 , -0.043611  , -0.00144916, ..., -0.02307792,\n",
      "       -0.01944165,  0.0166705 ], dtype=float32), 15: array([-0.00400451,  0.00631916,  0.00609205, ...,  0.00684476,\n",
      "        0.00126033,  0.00257263], dtype=float32), 16: array([-0.01841265,  0.00082334, -0.00875009, ...,  0.01741907,\n",
      "        0.0022004 , -0.00609933], dtype=float32), 17: array([ 0.00087731, -0.03144206,  0.01898262, ..., -0.01167991,\n",
      "       -0.00464941, -0.0134845 ], dtype=float32), 18: array([-0.01386229, -0.02041446, -0.00801323, ...,  0.05008044,\n",
      "        0.0166154 , -0.01541125], dtype=float32), 19: array([ 0.01870958,  0.00281877,  0.00476827, ...,  0.0189929 ,\n",
      "        0.00948377, -0.00450099], dtype=float32), 20: array([-0.01539845, -0.01532357,  0.01551583, ...,  0.00407094,\n",
      "        0.01001255,  0.01746828], dtype=float32), 21: array([-0.01349449, -0.01184142,  0.02296703, ..., -0.00950668,\n",
      "        0.02197205,  0.02371491], dtype=float32), 22: array([-0.0183753 , -0.01872558, -0.00877117, ..., -0.00478912,\n",
      "       -0.01907243,  0.02069824], dtype=float32), 23: array([-0.00161748, -0.00126104, -0.01312144, ..., -0.00912542,\n",
      "       -0.02551424,  0.01001236], dtype=float32), 24: array([ 0.00527514, -0.01022227,  0.00861167, ..., -0.00107131,\n",
      "        0.00038694, -0.01005676], dtype=float32), 25: array([ 0.00877705, -0.04330646, -0.00589595, ...,  0.01503622,\n",
      "       -0.02630202, -0.00010459], dtype=float32), 26: array([-0.0176531 , -0.00204671,  0.01146553, ...,  0.00484232,\n",
      "        0.01362086,  0.00820463], dtype=float32), 27: array([-0.02581464, -0.03938574,  0.04172614, ..., -0.00145668,\n",
      "        0.00971318, -0.02104294], dtype=float32), 28: array([-0.00396469,  0.00014811,  0.00215831, ..., -0.00043438,\n",
      "       -0.00962211,  0.006158  ], dtype=float32), 29: array([-0.01525814, -0.02547803,  0.01258537, ...,  0.00168059,\n",
      "        0.00196482,  0.00755204], dtype=float32), 30: array([ 0.01190812,  0.02008858, -0.02477069, ...,  0.02309013,\n",
      "       -0.0183817 , -0.00952425], dtype=float32), 31: array([-0.01700019, -0.0087191 ,  0.02934064, ..., -0.00895513,\n",
      "        0.02741894,  0.01619621], dtype=float32), 32: array([ 0.01738816, -0.00804375, -0.01132864, ..., -0.00611712,\n",
      "       -0.03349173,  0.02050493], dtype=float32), 33: array([-0.02266925, -0.0241066 , -0.00060486, ..., -0.01603641,\n",
      "        0.0226187 ,  0.02219705], dtype=float32), 34: array([ 0.01362017, -0.0206705 ,  0.0136307 , ...,  0.00874235,\n",
      "        0.00640664,  0.01413481], dtype=float32), 35: array([-0.01311895, -0.00988497,  0.04452467, ..., -0.00572501,\n",
      "        0.00630771,  0.0010951 ], dtype=float32), 36: array([ 0.00457796, -0.00532907,  0.01260883, ...,  0.00926475,\n",
      "        0.00077231, -0.01490275], dtype=float32), 37: array([ 0.00847958, -0.02541686,  0.02081282, ...,  0.00635049,\n",
      "        0.0357566 , -0.01935774], dtype=float32), 38: array([-0.00126818, -0.01427042,  0.00041411, ..., -0.01685278,\n",
      "        0.02013771, -0.04151403], dtype=float32), 39: array([ 0.00079608, -0.01419016,  0.00491307, ...,  0.00372225,\n",
      "       -0.00210304, -0.01693566], dtype=float32), 40: array([-0.01535541, -0.01174736,  0.01813106, ..., -0.00216288,\n",
      "        0.02229824,  0.01302165], dtype=float32), 41: array([-0.01412066,  0.00587007,  0.02475231, ..., -0.03284732,\n",
      "        0.03430256,  0.0319503 ], dtype=float32), 42: array([-0.00304453, -0.04770347,  0.0101471 , ...,  0.00626632,\n",
      "        0.01090803, -0.00078481], dtype=float32), 43: array([-0.00237061, -0.0066256 ,  0.03375907, ..., -0.01126692,\n",
      "        0.02480741, -0.01823492], dtype=float32), 44: array([-0.01904157, -0.0073871 ,  0.00782992, ...,  0.024929  ,\n",
      "        0.01387565, -0.01782122], dtype=float32)}\n",
      "{0: array([ 0.01015358,  0.02393063, -0.00361304, ..., -0.01734225,\n",
      "       -0.02086663,  0.0104313 ], dtype=float32), 1: array([-0.00506175,  0.01269228,  0.0165313 , ...,  0.02090282,\n",
      "        0.03066896, -0.02566985], dtype=float32), 2: array([-0.01623117, -0.00535454,  0.01491543, ..., -0.00265792,\n",
      "        0.02060336,  0.00992441], dtype=float32), 3: array([ 5.1350803e-03, -1.3683971e-02, -9.6982485e-03, ...,\n",
      "        4.1474519e-05,  8.9400792e-03,  3.8618471e-03], dtype=float32), 4: array([ 0.01220597,  0.01363838, -0.02191127, ...,  0.01558217,\n",
      "       -0.02407568, -0.00239046], dtype=float32), 5: array([-0.00315208,  0.00644836, -0.00217171, ..., -0.00772374,\n",
      "       -0.01323462,  0.00361531], dtype=float32), 6: array([-0.00984623, -0.03042119, -0.00194214, ...,  0.00648063,\n",
      "        0.00690873, -0.00824982], dtype=float32), 7: array([-0.0004745 , -0.00853408,  0.01604503, ..., -0.00392844,\n",
      "        0.00072936, -0.00446551], dtype=float32), 8: array([ 0.01261043,  0.01011424, -0.01788224, ...,  0.00617529,\n",
      "       -0.00709443, -0.00027163], dtype=float32), 9: array([ 0.00046822, -0.01230323, -0.00547704, ...,  0.00102549,\n",
      "        0.02023032, -0.00045427], dtype=float32), 10: array([ 0.00309042, -0.01007526, -0.00865188, ..., -0.00190506,\n",
      "        0.00311552,  0.00477813], dtype=float32), 11: array([ 0.00190465, -0.00109041,  0.01289869, ...,  0.01101297,\n",
      "        0.02156158, -0.00262429], dtype=float32), 12: array([-0.00156453, -0.01483895,  0.00949605, ...,  0.00397436,\n",
      "        0.01231018,  0.00520811], dtype=float32), 13: array([ 0.00736931, -0.01466685,  0.00505638, ..., -0.01307676,\n",
      "       -0.00189028, -0.01440406], dtype=float32), 14: array([-0.03977905,  0.01807495,  0.02688511, ...,  0.00914599,\n",
      "       -0.00926444,  0.02296766], dtype=float32), 15: array([-0.01161563,  0.00430019,  0.02286594, ..., -0.00741554,\n",
      "       -0.00230696,  0.01047209], dtype=float32), 16: array([-0.00851245, -0.05183893,  0.000321  , ...,  0.00613976,\n",
      "        0.00110251, -0.04208574], dtype=float32), 17: array([-0.01574359,  0.00405814,  0.01932147, ...,  0.00463839,\n",
      "       -0.00130376,  0.00239918], dtype=float32), 18: array([-0.00560488, -0.00983558,  0.02845446, ...,  0.00345593,\n",
      "        0.0224486 ,  0.02359362], dtype=float32), 19: array([-0.00769469, -0.01519021,  0.00962088, ..., -0.02382343,\n",
      "        0.01901664,  0.00944346], dtype=float32), 20: array([ 0.00163613, -0.05478993, -0.00379141, ...,  0.00370282,\n",
      "        0.00202126, -0.00176489], dtype=float32), 21: array([-0.01724433,  0.02913831, -0.01055067, ..., -0.00707738,\n",
      "        0.0100349 ,  0.00831585], dtype=float32)}\n"
     ]
    }
   ],
   "source": [
    "from helpers.data_utils import create_averaged_label_embeddings\n",
    "\n",
    "cell_avg_embedding = create_averaged_label_embeddings(data, cell_type, 'coarse_cell_type', 1280)\n",
    "with open(\"/dfs/user/ayushag/ucegen/helpers/cond_embs/averaged_cell_type_emb.pkl\", \"wb\") as f:\n",
    "    pkl.dump(cell_avg_embedding, f)\n",
    "\n",
    "tis_avg_embedding = create_averaged_label_embeddings(data, tissue_type, 'coarse_tissue', 1280)\n",
    "with open(\"/dfs/user/ayushag/ucegen/datasets/cond_embs/averaged_tissue_type_emb.pkl\", \"wb\") as f:\n",
    "    pkl.dump(tis_avg_embedding, f)"
   ]
  },
  {
   "cell_type": "markdown",
   "metadata": {},
   "source": [
    "### Coarsening conditional variables"
   ]
  },
  {
   "cell_type": "code",
   "execution_count": 57,
   "metadata": {},
   "outputs": [
    {
     "data": {
      "text/plain": [
       "cell_type\n",
       "neuron                                      807435\n",
       "oligodendrocyte                             157730\n",
       "missing                                      58248\n",
       "astrocyte                                    53539\n",
       "glutamatergic neuron                         48306\n",
       "                                             ...  \n",
       "meis2 expressing cortical GABAergic cell         1\n",
       "vascular leptomeningeal cell (Mmus)              1\n",
       "brush cell of bronchus                           1\n",
       "Purkinje myocyte                                 1\n",
       "nodal myocyte                                    1\n",
       "Name: count, Length: 839, dtype: int64"
      ]
     },
     "execution_count": 57,
     "metadata": {},
     "output_type": "execute_result"
    }
   ],
   "source": [
    "data.obs[\"cell_type\"].value_counts()"
   ]
  },
  {
   "cell_type": "code",
   "execution_count": 58,
   "metadata": {},
   "outputs": [
    {
     "data": {
      "text/plain": [
       "tissue\n",
       "cerebral cortex               343567\n",
       "missing                       223529\n",
       "blood                         195922\n",
       "cerebral nuclei               150000\n",
       "thalamic complex              145450\n",
       "                               ...  \n",
       "white matter of cerebellum        85\n",
       "bone spine                        82\n",
       "Liver-10X_P7_1                    51\n",
       "Bladder-10X_P4_3                  18\n",
       "kidney blood vessel               16\n",
       "Name: count, Length: 197, dtype: int64"
      ]
     },
     "execution_count": 58,
     "metadata": {},
     "output_type": "execute_result"
    }
   ],
   "source": [
    "data.obs['tissue'].value_counts()"
   ]
  },
  {
   "cell_type": "code",
   "execution_count": 59,
   "metadata": {},
   "outputs": [],
   "source": [
    "from datasets.mappings.coarse_ct_mapping import get_ct_mapping\n",
    "from datasets.mappings.coarse_tis_mapping import get_tissue_mapping\n",
    "\n",
    "cell_type_mapping = get_ct_mapping()\n",
    "tissue_mapping = get_tissue_mapping()"
   ]
  },
  {
   "cell_type": "code",
   "execution_count": 60,
   "metadata": {},
   "outputs": [],
   "source": [
    "# Function to map fine cell types to coarse cell types, with adjustment for missing cell types\n",
    "def map_to_coarse(var_type, mapping_dict):\n",
    "    for coarse, fines in mapping_dict.items():\n",
    "        if var_type in fines:\n",
    "            return coarse\n",
    "    return \"missing\"  # Adjusted to return \"Missing\" for cell types not found in the dictionary"
   ]
  },
  {
   "cell_type": "code",
   "execution_count": 68,
   "metadata": {},
   "outputs": [],
   "source": [
    "# Update the mapping dictionary to include a \"Missing\" category\n",
    "cell_type_mapping[\"missing\"] = []\n",
    "\n",
    "# Apply the mapping to create a new 'coarse_cell_type' column in data.obs\n",
    "data.obs['coarse_cell_type'] = data.obs['cell_type'].apply(map_to_coarse, mapping_dict=cell_type_mapping)"
   ]
  },
  {
   "cell_type": "code",
   "execution_count": 70,
   "metadata": {},
   "outputs": [],
   "source": [
    "data = data[data.obs['coarse_cell_type'] != 'missing']"
   ]
  },
  {
   "cell_type": "code",
   "execution_count": 71,
   "metadata": {},
   "outputs": [
    {
     "data": {
      "text/plain": [
       "coarse_cell_type\n",
       "neuron                                  939277\n",
       "oligodendrocyte                         196002\n",
       "epithelial                              184984\n",
       "t cell                                  168607\n",
       "endothelial                              84222\n",
       "b cell                                   80352\n",
       "fibroblast                               77175\n",
       "macrophage                               73660\n",
       "stem                                     71701\n",
       "monocyte                                 70996\n",
       "astrocyte                                56443\n",
       "glial                                    44057\n",
       "lymphoid                                 32677\n",
       "pneumocyte                               32625\n",
       "muscle                                   26123\n",
       "mesenchymal                              25368\n",
       "thymocyte                                21316\n",
       "erythroid                                20058\n",
       "tumor                                    20055\n",
       "endocrine                                14145\n",
       "leukocyte                                13462\n",
       "plasma                                   10326\n",
       "dendritic                                10114\n",
       "myeloid                                   8880\n",
       "cd4-t                                     7961\n",
       "nk-t                                      7699\n",
       "epidermal                                 6598\n",
       "secretory                                 6421\n",
       "germline                                  6393\n",
       "mesodermal                                5538\n",
       "fat                                       5460\n",
       "melanocyte                                3959\n",
       "goblet                                    3710\n",
       "cd8-t                                     3542\n",
       "hematopoietic                             2335\n",
       "hepatocyte                                2178\n",
       "stellate                                  1372\n",
       "granulocyte                                859\n",
       "ciliated                                   847\n",
       "NaN                                        166\n",
       "skeletal                                   147\n",
       "ionocyte                                   135\n",
       "t-reg                                       96\n",
       "professional antigen presenting cell        95\n",
       "mononuclear                                 72\n",
       "Name: count, dtype: int64"
      ]
     },
     "execution_count": 71,
     "metadata": {},
     "output_type": "execute_result"
    }
   ],
   "source": [
    "data.obs['coarse_cell_type'].value_counts(dropna=False)"
   ]
  },
  {
   "cell_type": "code",
   "execution_count": 72,
   "metadata": {},
   "outputs": [
    {
     "name": "stderr",
     "output_type": "stream",
     "text": [
      "/lfs/ampere6/0/ayushag/env/micromamba/envs/diff/lib/python3.11/site-packages/anndata/_core/anndata.py:1209: ImplicitModificationWarning: Trying to modify attribute `.obs` of view, initializing view as actual.\n",
      "  df[key] = c\n"
     ]
    }
   ],
   "source": [
    "data.write_h5ad(\"/lfs/local/0/ayushag/uce_data/coarse_uce_10000_per_dataset_33l_8ep.h5ad\")"
   ]
  },
  {
   "cell_type": "markdown",
   "metadata": {},
   "source": [
    "### Saving the actual original values for examination"
   ]
  },
  {
   "cell_type": "code",
   "execution_count": 21,
   "metadata": {},
   "outputs": [],
   "source": [
    "tis_list = data.obs[\"tissue\"].values\n",
    "unique = list(set(tis_list))"
   ]
  },
  {
   "cell_type": "code",
   "execution_count": 9,
   "metadata": {},
   "outputs": [],
   "source": [
    "# save the output of data.obs[\"tissue\"].values  to a .txt file locally\n",
    "\n",
    "saved_file = open(\"tissue.txt\", \"w\")\n",
    "for i in unique:\n",
    "    saved_file.write(i + \"\\n\")\n",
    "saved_file.close()\n"
   ]
  },
  {
   "cell_type": "code",
   "execution_count": 18,
   "metadata": {},
   "outputs": [],
   "source": [
    "tissue_file = open(\"tissue.txt\", \"r\")\n",
    "tissue_list = tissue_file.read().splitlines()\n",
    "tissue_file.close()\n",
    "\n",
    "# Flatten tissue_categories into a single list\n",
    "flat_tissue_categories = []\n",
    "for category, subcategories in tissue_mapping.items():\n",
    "    if isinstance(subcategories, dict):\n",
    "        for subcategory, tissues in subcategories.items():\n",
    "            if isinstance(tissues, list):\n",
    "                flat_tissue_categories.extend(tissues)\n",
    "            else:\n",
    "                flat_tissue_categories.append(tissues)\n",
    "    elif isinstance(subcategories, list):\n",
    "        flat_tissue_categories.extend(subcategories)\n",
    "    else:\n",
    "        flat_tissue_categories.append(subcategories)\n",
    "\n",
    "# Check if each tissue from tissue_list is in the flattened tissue_categories\n",
    "for i in tissue_list:\n",
    "    if i not in flat_tissue_categories:\n",
    "        print(i)"
   ]
  },
  {
   "cell_type": "code",
   "execution_count": null,
   "metadata": {},
   "outputs": [],
   "source": []
  }
 ],
 "metadata": {
  "kernelspec": {
   "display_name": "Python 3",
   "language": "python",
   "name": "python3"
  },
  "language_info": {
   "codemirror_mode": {
    "name": "ipython",
    "version": 3
   },
   "file_extension": ".py",
   "mimetype": "text/x-python",
   "name": "python",
   "nbconvert_exporter": "python",
   "pygments_lexer": "ipython3",
   "version": "3.11.9"
  }
 },
 "nbformat": 4,
 "nbformat_minor": 2
}
